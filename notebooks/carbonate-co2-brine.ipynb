{
 "cells": [
  {
   "cell_type": "markdown",
   "metadata": {},
   "source": [
    "## Step 1: Import the reaktoro Python package"
   ]
  },
  {
   "cell_type": "code",
   "execution_count": 1,
   "metadata": {},
   "outputs": [],
   "source": [
    "from reaktoro import *"
   ]
  },
  {
   "cell_type": "markdown",
   "metadata": {},
   "source": [
    "## Step 2: Specify the phases in the chemical system and their species"
   ]
  },
  {
   "cell_type": "code",
   "execution_count": 2,
   "metadata": {},
   "outputs": [
    {
     "data": {
      "text/plain": [
       "<reaktoro.PyReaktoro.MineralPhase at 0x7f1330101770>"
      ]
     },
     "execution_count": 2,
     "metadata": {},
     "output_type": "execute_result"
    }
   ],
   "source": [
    "editor = ChemicalEditor()\n",
    "editor.addAqueousPhaseWithElementsOf(\"H2O NaCl CaCO3 MgCO3\")\n",
    "editor.addGaseousPhase([\"H2O(g)\", \"CO2(g)\"])\n",
    "editor.addMineralPhase(\"Calcite\")\n",
    "editor.addMineralPhase(\"Magnesite\")\n",
    "editor.addMineralPhase(\"Dolomite\")\n",
    "editor.addMineralPhase(\"Halite\")"
   ]
  },
  {
   "cell_type": "markdown",
   "metadata": {},
   "source": [
    "## Step 3: Define the kinetically-controlled reactions"
   ]
  },
  {
   "cell_type": "code",
   "execution_count": 3,
   "metadata": {},
   "outputs": [
    {
     "data": {
      "text/plain": [
       "<reaktoro.PyReaktoro.MineralReaction at 0x7f1318e7b830>"
      ]
     },
     "execution_count": 3,
     "metadata": {},
     "output_type": "execute_result"
    }
   ],
   "source": [
    "editor.addMineralReaction(\"Calcite\") \\\n",
    "    .setEquation(\"Calcite = Ca++ + CO3--\") \\\n",
    "    .addMechanism(\"logk = -5.81 mol/(m2*s); Ea = 23.5 kJ/mol\") \\\n",
    "    .addMechanism(\"logk = -0.30 mol/(m2*s); Ea = 14.4 kJ/mol; a[H+] = 1.0\") \\\n",
    "    .setSpecificSurfaceArea(10, \"cm2/g\")\n",
    "\n",
    "editor.addMineralReaction(\"Magnesite\") \\\n",
    "    .setEquation(\"Magnesite = Mg++ + CO3--\") \\\n",
    "    .addMechanism(\"logk = -9.34 mol/(m2*s); Ea = 23.5 kJ/mol\") \\\n",
    "    .addMechanism(\"logk = -6.38 mol/(m2*s); Ea = 14.4 kJ/mol; a[H+] = 1.0\") \\\n",
    "    .setSpecificSurfaceArea(10, \"cm2/g\")\n",
    "\n",
    "editor.addMineralReaction(\"Dolomite\") \\\n",
    "    .setEquation(\"Dolomite = Ca++ + Mg++ + 2*CO3--\") \\\n",
    "    .addMechanism(\"logk = -7.53 mol/(m2*s); Ea = 52.2 kJ/mol\") \\\n",
    "    .addMechanism(\"logk = -3.19 mol/(m2*s); Ea = 36.1 kJ/mol; a[H+] = 0.5\") \\\n",
    "    .setSpecificSurfaceArea(10, \"cm2/g\")"
   ]
  },
  {
   "cell_type": "markdown",
   "metadata": {},
   "source": [
    "## Step 4: Construct the chemical system"
   ]
  },
  {
   "cell_type": "code",
   "execution_count": 4,
   "metadata": {},
   "outputs": [],
   "source": [
    "system = ChemicalSystem(editor)\n",
    "reactions = ReactionSystem(editor)"
   ]
  },
  {
   "cell_type": "markdown",
   "metadata": {},
   "source": [
    "## Step 5: Specify the equilibrium and kinetic species"
   ]
  },
  {
   "cell_type": "code",
   "execution_count": 5,
   "metadata": {},
   "outputs": [],
   "source": [
    "partition = Partition(system)\n",
    "partition.setKineticSpecies([\"Calcite\", \"Magnesite\", \"Dolomite\"])"
   ]
  },
  {
   "cell_type": "markdown",
   "metadata": {},
   "source": [
    "## Step 6: Define the initial chemical equilibrium state"
   ]
  },
  {
   "cell_type": "code",
   "execution_count": 6,
   "metadata": {},
   "outputs": [
    {
     "data": {
      "text/plain": [
       "<reaktoro.PyReaktoro.EquilibriumProblem at 0x7f1318e87df0>"
      ]
     },
     "execution_count": 6,
     "metadata": {},
     "output_type": "execute_result"
    }
   ],
   "source": [
    "problem = EquilibriumProblem(system)\n",
    "problem.setPartition(partition)\n",
    "problem.setTemperature(60, \"celsius\")\n",
    "problem.setPressure(100, \"bar\")\n",
    "problem.add(\"H2O\", 1, \"kg\")\n",
    "problem.add(\"NaCl\", 0.5, \"mol\")\n",
    "problem.add(\"CO2\", 1, \"mol\")"
   ]
  },
  {
   "cell_type": "markdown",
   "metadata": {},
   "source": [
    "## Step 7: Calculate the initial chemical equilibrium state"
   ]
  },
  {
   "cell_type": "code",
   "execution_count": 7,
   "metadata": {},
   "outputs": [],
   "source": [
    "state0 = equilibrate(problem)"
   ]
  },
  {
   "cell_type": "markdown",
   "metadata": {},
   "source": [
    "## Step 8: Set the initial mass of the kinetic species"
   ]
  },
  {
   "cell_type": "code",
   "execution_count": 8,
   "metadata": {},
   "outputs": [],
   "source": [
    "state0.setSpeciesMass(\"Calcite\", 100, \"g\")\n",
    "state0.setSpeciesMass(\"Dolomite\", 50, \"g\")"
   ]
  },
  {
   "cell_type": "markdown",
   "metadata": {},
   "source": [
    "## Step 9: Create a kinetic path solver"
   ]
  },
  {
   "cell_type": "code",
   "execution_count": 9,
   "metadata": {},
   "outputs": [],
   "source": [
    "path = KineticPath(reactions)\n",
    "path.setPartition(partition)"
   ]
  },
  {
   "cell_type": "markdown",
   "metadata": {},
   "source": [
    "## Step 11: Perform the kinetic path calculation"
   ]
  },
  {
   "cell_type": "code",
   "execution_count": 10,
   "metadata": {},
   "outputs": [],
   "source": [
    "t0, t1 = 0.0, 25.0\n",
    "path.solve(state0, t0, t1, \"hours\")"
   ]
  },
  {
   "cell_type": "markdown",
   "metadata": {},
   "source": [
    "## Step 12: Have fun!"
   ]
  },
  {
   "cell_type": "code",
   "execution_count": 11,
   "metadata": {},
   "outputs": [
    {
     "data": {
      "text/plain": [
       "array([3.00134300e-22, 8.56035826e-01, 2.01788914e-06, 5.77661112e-03,\n",
       "       3.08064863e-02, 8.93518671e-06, 2.05598165e-03, 1.17744430e-04,\n",
       "       2.70640797e-09, 4.76197711e-01, 5.80075801e-21, 3.22782947e-22,\n",
       "       2.90434074e-22, 2.12596913e-22, 1.69943266e-05, 3.40428517e-22,\n",
       "       5.54671249e+01, 3.68036098e-21, 7.50609127e-02, 5.97864788e-07,\n",
       "       1.63741399e-19, 2.67503894e-22, 6.74812760e-22, 2.67391528e-04,\n",
       "       1.41422691e-03, 1.37010483e-07, 1.07243120e-04, 1.03061958e-09,\n",
       "       4.78597021e-01, 2.14029771e-02, 1.76566598e-09, 2.66858225e-14,\n",
       "       1.31535701e-08, 7.48930186e-04, 1.03402930e-01, 9.62154993e-01,\n",
       "       9.99990959e-11, 2.69359499e-01, 1.64629216e-21])"
      ]
     },
     "execution_count": 11,
     "metadata": {},
     "output_type": "execute_result"
    }
   ],
   "source": [
    "state0.speciesAmounts()"
   ]
  },
  {
   "cell_type": "code",
   "execution_count": 12,
   "metadata": {},
   "outputs": [
    {
     "name": "stdout",
     "output_type": "stream",
     "text": [
      "CO(aq) 3.001343001796257e-22\n",
      "CO2(aq) 0.8560358256062635\n",
      "CO3-- 2.0178891415628484e-06\n",
      "Ca(HCO3)+ 0.00577661111873367\n",
      "Ca++ 0.030806486307018245\n",
      "CaCO3(aq) 8.935186706244628e-06\n",
      "CaCl+ 0.002055981654003492\n",
      "CaCl2(aq) 0.00011774443007317395\n",
      "CaOH+ 2.7064079745846202e-09\n",
      "Cl- 0.4761977113852356\n",
      "ClO- 5.800758010866725e-21\n",
      "ClO2- 3.227829470768543e-22\n",
      "ClO3- 2.9043407370557392e-22\n",
      "ClO4- 2.125969126829123e-22\n",
      "H+ 1.6994326617229685e-05\n",
      "H2(aq) 3.4042851664875535e-22\n",
      "H2O(l) 55.4671248685036\n",
      "H2O2(aq) 3.680360984644366e-21\n",
      "HCO3- 0.07506091270958197\n",
      "HCl(aq) 5.978647878042006e-07\n",
      "HClO(aq) 1.6374139930157824e-19\n",
      "HClO2(aq) 2.6750389408263305e-22\n",
      "HO2- 6.748127595162454e-22\n",
      "Mg(HCO3)+ 0.00026739152791485627\n",
      "Mg++ 0.0014142269051343232\n",
      "MgCO3(aq) 1.3701048259191328e-07\n",
      "MgCl+ 0.0001072431197807891\n",
      "MgOH+ 1.0306195770573456e-09\n",
      "Na+ 0.478597021118288\n",
      "NaCl(aq) 0.021402977116045996\n",
      "NaOH(aq) 1.7656659815013862e-09\n",
      "O2(aq) 2.6685822470739775e-14\n",
      "OH- 1.3153570053297993e-08\n",
      "H2O(g) 0.0007489301864284924\n",
      "CO2(g) 0.10340292994805178\n",
      "Calcite 0.9621549926963225\n",
      "Magnesite 9.999909592456997e-11\n",
      "Dolomite 0.26935949867722625\n",
      "Halite 1.6462921610257497e-21\n"
     ]
    }
   ],
   "source": [
    "num_of_species = system.numSpecies()\n",
    "for species_index in range(num_of_species):\n",
    "    print(system.species()[species_index].name(), state0.speciesAmount(species_index))"
   ]
  },
  {
   "cell_type": "code",
   "execution_count": 13,
   "metadata": {},
   "outputs": [
    {
     "data": {
      "text/plain": [
       "4.952627628014553"
      ]
     },
     "execution_count": 13,
     "metadata": {},
     "output_type": "execute_result"
    }
   ],
   "source": [
    "properties = state0.properties()\n",
    "evaluate_pH = ChemicalProperty.pH(system)\n",
    "pH = evaluate_pH(properties)\n",
    "\n",
    "pH.val"
   ]
  }
 ],
 "metadata": {
  "kernelspec": {
   "display_name": "Python 3",
   "language": "python",
   "name": "python3"
  },
  "language_info": {
   "codemirror_mode": {
    "name": "ipython",
    "version": 3
   },
   "file_extension": ".py",
   "mimetype": "text/x-python",
   "name": "python",
   "nbconvert_exporter": "python",
   "pygments_lexer": "ipython3",
   "version": "3.8.2"
  }
 },
 "nbformat": 4,
 "nbformat_minor": 4
}
